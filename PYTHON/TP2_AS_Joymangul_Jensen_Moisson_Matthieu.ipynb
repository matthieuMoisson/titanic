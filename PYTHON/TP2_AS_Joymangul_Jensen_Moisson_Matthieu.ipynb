{
 "cells": [
  {
   "cell_type": "markdown",
   "metadata": {},
   "source": [
    "# TP2 Apprentissage supervisé avec Python "
   ]
  },
  {
   "cell_type": "markdown",
   "metadata": {},
   "source": [
    "### JOYMANGUL Jensen\n",
    "### MOISSON Matthieu\n",
    "#### 13/01/18"
   ]
  },
  {
   "cell_type": "markdown",
   "metadata": {},
   "source": [
    "## Import"
   ]
  },
  {
   "cell_type": "code",
   "execution_count": 1,
   "metadata": {
    "collapsed": true
   },
   "outputs": [],
   "source": [
    "import numpy as np\n",
    "np.set_printoptions(threshold=np.nan)\n",
    "\n",
    "import pandas as pd\n",
    "\n",
    "\n",
    "\n",
    "import warnings\n",
    "import matplotlib.pyplot as plt\n",
    "warnings.filterwarnings('ignore')"
   ]
  },
  {
   "cell_type": "markdown",
   "metadata": {},
   "source": [
    "## I. Apprentissage supervisé : feature engineering et classification"
   ]
  },
  {
   "cell_type": "markdown",
   "metadata": {},
   "source": [
    "### 1) Chargement des données et préparation"
   ]
  },
  {
   "cell_type": "code",
   "execution_count": 2,
   "metadata": {
    "collapsed": true
   },
   "outputs": [],
   "source": [
    "data = pd.read_csv('./parkinsons.csv', sep=';')\n",
    "X = data.ix[:, 1:23].values\n",
    "Y = data.ix[:, 23].values\n",
    "name_col=data.columns[1:23]\n",
    "labels = data.ix[:, 0].values"
   ]
  },
  {
   "cell_type": "markdown",
   "metadata": {},
   "source": [
    "#### L'histogramme des malade et non malade"
   ]
  },
  {
   "cell_type": "code",
   "execution_count": 3,
   "metadata": {},
   "outputs": [
    {
     "name": "stdout",
     "output_type": "stream",
     "text": [
      "(195, 22)\n",
      "Pourcentage de 0: 24.615385\n",
      "Pourcentage de 1: 75.384615\n"
     ]
    },
    {
     "data": {
      "image/png": "[encoded data removed]",
      "text/plain": [
       "<matplotlib.figure.Figure at 0x231c01a4400>"
      ]
     },
     "metadata": {},
     "output_type": "display_data"
    }
   ],
   "source": [
    "print(X.shape)\n",
    "print(\"Pourcentage de 0: {0:3f}\".format(100*sum(Y==0) / len(Y)))\n",
    "print(\"Pourcentage de 1: {0:3f}\".format(100*sum(Y==1) / len(Y)))\n",
    "\n",
    "plt.hist(Y)\n",
    "plt.title(\"Repartition des classes\")\n",
    "plt.show()"
   ]
  },
  {
   "cell_type": "markdown",
   "metadata": {},
   "source": [
    "#### Test-Train"
   ]
  },
  {
   "cell_type": "code",
   "execution_count": 4,
   "metadata": {},
   "outputs": [
    {
     "name": "stdout",
     "output_type": "stream",
     "text": [
      "Détail sur la table d'apprentissage (97, 22)\n"
     ]
    }
   ],
   "source": [
    "from sklearn.model_selection import train_test_split\n",
    "X1, X2, Y1, Y2 = train_test_split(X, Y, test_size= 0.5, random_state=1)\n",
    "print(\"Détail sur la table d'apprentissage {}\".format(X1.shape))"
   ]
  },
  {
   "cell_type": "markdown",
   "metadata": {},
   "source": [
    "### 2) Apprentissage et évaluation de modèles\n",
    "#### Construction des classifieurs"
   ]
  },
  {
   "cell_type": "code",
   "execution_count": 5,
   "metadata": {
    "collapsed": true
   },
   "outputs": [],
   "source": [
    "from sklearn.neighbors import KNeighborsClassifier\n",
    "from sklearn.tree import DecisionTreeClassifier\n",
    "from sklearn.metrics import confusion_matrix, accuracy_score, precision_score\n",
    "\n",
    "def classifieur(X1, Y1, X2, Y2):\n",
    "    DT = DecisionTreeClassifier(random_state=1)\n",
    "    DT.fit(X1, Y1)\n",
    "    YDT = DT.predict(X2)\n",
    "    print(\"Decision Tree\")\n",
    "    print(confusion_matrix(Y2, YDT))\n",
    "    print(\"Accuracy score d'un DT: {0:.3f}\".format(accuracy_score(Y2,YDT)))\n",
    "    print(\"Precision score d'un DT: {0:.3f}\".format(precision_score(Y2,YDT)))\n",
    "    \n",
    "    KNN = KNeighborsClassifier(n_neighbors=5)\n",
    "    KNN.fit(X1, Y1)\n",
    "    YKNN = KNN.predict(X2)\n",
    "    print(\"K-plus-proche-voisin\")\n",
    "    print(confusion_matrix(Y2, YKNN))\n",
    "    print(\"Accuracy score d'un KNN: {0:.3f}\".format(accuracy_score(Y2,YKNN)))\n",
    "    print(\"Precision score d'un KNN: {0:.3f}\".format(precision_score(Y2,YKNN)))    "
   ]
  },
  {
   "cell_type": "code",
   "execution_count": 6,
   "metadata": {},
   "outputs": [
    {
     "name": "stdout",
     "output_type": "stream",
     "text": [
      "Decision Tree\n",
      "[[17 10]\n",
      " [ 5 66]]\n",
      "Accuracy score d'un DT: 0.847\n",
      "Precision score d'un DT: 0.868\n",
      "K-plus-proche-voisin\n",
      "[[11 16]\n",
      " [ 4 67]]\n",
      "Accuracy score d'un KNN: 0.796\n",
      "Precision score d'un KNN: 0.807\n"
     ]
    }
   ],
   "source": [
    "classifieur(X1, Y1, X2, Y2)"
   ]
  },
  {
   "cell_type": "markdown",
   "metadata": {},
   "source": [
    "### 3) Normalisation des variables continues\n",
    "#### Normalisation"
   ]
  },
  {
   "cell_type": "code",
   "execution_count": 7,
   "metadata": {
    "collapsed": true
   },
   "outputs": [],
   "source": [
    "from sklearn.preprocessing import StandardScaler\n",
    "standard_scalar = StandardScaler()\n",
    "standard_scalar.fit(X1)\n",
    "X1_scale = standard_scalar.transform(X1)\n",
    "X2_scale =  standard_scalar.transform(X2)"
   ]
  },
  {
   "cell_type": "markdown",
   "metadata": {},
   "source": [
    "#### Execution sur les données"
   ]
  },
  {
   "cell_type": "code",
   "execution_count": 8,
   "metadata": {},
   "outputs": [
    {
     "name": "stdout",
     "output_type": "stream",
     "text": [
      "Decision Tree\n",
      "[[17 10]\n",
      " [ 5 66]]\n",
      "Accuracy score d'un DT: 0.847\n",
      "Precision score d'un DT: 0.868\n",
      "K-plus-proche-voisin\n",
      "[[13 14]\n",
      " [ 1 70]]\n",
      "Accuracy score d'un KNN: 0.847\n",
      "Precision score d'un KNN: 0.833\n"
     ]
    }
   ],
   "source": [
    "classifieur(X1_scale, Y1, X2_scale, Y2)"
   ]
  },
  {
   "cell_type": "markdown",
   "metadata": {},
   "source": [
    "On peut voir que l'accuracy n'est pas améliorer pour l'arbre de décision. Cependant On peut voir que k-plus-proches-voisins (k=5) obtient un meilleurs résultat pour l'accuraccy et la précision."
   ]
  },
  {
   "cell_type": "markdown",
   "metadata": {},
   "source": [
    "### 4) Création de nouvelles variables caracteristiques par combinaisons linéaire des variables initiales"
   ]
  },
  {
   "cell_type": "code",
   "execution_count": 9,
   "metadata": {
    "collapsed": true
   },
   "outputs": [],
   "source": [
    "from sklearn.decomposition import PCA\n",
    "\n",
    "pca = PCA(n_components=2)\n",
    "pca.fit(X1_scale)\n",
    "X1_pca = np.concatenate((X1_scale,pca.transform(X1_scale)), axis=1)\n",
    "X2_pca = np.concatenate((X2_scale,pca.transform(X2_scale)), axis=1)"
   ]
  },
  {
   "cell_type": "markdown",
   "metadata": {},
   "source": [
    "#### Execution sur les données"
   ]
  },
  {
   "cell_type": "code",
   "execution_count": 10,
   "metadata": {},
   "outputs": [
    {
     "name": "stdout",
     "output_type": "stream",
     "text": [
      "Decision Tree\n",
      "[[19  8]\n",
      " [ 5 66]]\n",
      "Accuracy score d'un DT: 0.867\n",
      "Precision score d'un DT: 0.892\n",
      "K-plus-proche-voisin\n",
      "[[16 11]\n",
      " [ 0 71]]\n",
      "Accuracy score d'un KNN: 0.888\n",
      "Precision score d'un KNN: 0.866\n"
     ]
    }
   ],
   "source": [
    "classifieur(X1_pca, Y1, X2_pca, Y2)"
   ]
  },
  {
   "cell_type": "markdown",
   "metadata": {},
   "source": [
    "L'ACP réalisé nous permet de gagner en précision et en accuracy sur les deux algorithmes d'apprentissage supervisé."
   ]
  },
  {
   "cell_type": "markdown",
   "metadata": {},
   "source": [
    "### 5) Sélection de variables"
   ]
  },
  {
   "cell_type": "markdown",
   "metadata": {},
   "source": [
    "#### Affichage de l'histogramme des importances des variables avec la méthode Random Forest"
   ]
  },
  {
   "cell_type": "code",
   "execution_count": 11,
   "metadata": {},
   "outputs": [
    {
     "data": {
      "image/png": "[encoded data removed]",
      "text/plain": [
       "<matplotlib.figure.Figure at 0x231c0042630>"
      ]
     },
     "metadata": {},
     "output_type": "display_data"
    }
   ],
   "source": [
    "from sklearn.ensemble import RandomForestClassifier\n",
    "import matplotlib.pyplot as plt\n",
    "clf = RandomForestClassifier(n_estimators=100)\n",
    "clf.fit(X1_scale, Y1)\n",
    "\n",
    "importances=clf.feature_importances_\n",
    "sorted_idx = np.argsort(importances)[::-1]\n",
    "features =name_col\n",
    "\n",
    "# print(features[sorted_idx])\n",
    "padding = np.arange(X1_scale.size/len(X1_scale)) + 0.5\n",
    "\n",
    "plt.barh(padding, importances[sorted_idx], align='center')\n",
    "plt.yticks(padding, features[sorted_idx])\n",
    "plt.xlabel(\"Relative Importance\")\n",
    "plt.title(\"Variable Importance\")\n",
    "plt.show()"
   ]
  },
  {
   "cell_type": "markdown",
   "metadata": {},
   "source": [
    "#### Selectioner la combinaison de variables la plus pertinente"
   ]
  },
  {
   "cell_type": "code",
   "execution_count": 12,
   "metadata": {},
   "outputs": [
    {
     "data": {
      "image/png": "[encoded data removed]",
      "text/plain": [
       "<matplotlib.figure.Figure at 0x231c05b1588>"
      ]
     },
     "metadata": {},
     "output_type": "display_data"
    }
   ],
   "source": [
    "KNN=KNeighborsClassifier(n_neighbors=5)\n",
    "scores=np.zeros(X1_scale.shape[1]+1)\n",
    "for f in np.arange(0, X1_scale.shape[1]+1):\n",
    "    X1_f = X1_scale[:,sorted_idx[:f+1]]\n",
    "    X2_f = X2_scale[:,sorted_idx[:f+1]]\n",
    "    KNN.fit(X1_f,Y1)\n",
    "    YKNN=KNN.predict(X2_f)\n",
    "    scores[f]=np.round(accuracy_score(Y2,YKNN),3)\n",
    "plt.plot(scores)\n",
    "plt.xlabel(\"Nombre de Variables\")\n",
    "plt.ylabel(\"Accuracy\")\n",
    "plt.title(\"Evolution de l'accuracy en fonction des variables\")\n",
    "plt.show()"
   ]
  },
  {
   "cell_type": "markdown",
   "metadata": {},
   "source": [
    "On peut voir qu'il y a un pic qui atteint presque 0.88. Ce premier pic permet de déterminer le nombre de variables à prendre. Il s'agit des 3 premieres. En ajoutant plus de variables nous ne pouvons esperer un meilleur résultat que avec trois. Au contraires nous risquons d'ajouter du bruits."
   ]
  },
  {
   "cell_type": "markdown",
   "metadata": {},
   "source": [
    "### Grid search KNN"
   ]
  },
  {
   "cell_type": "code",
   "execution_count": 13,
   "metadata": {},
   "outputs": [
    {
     "name": "stdout",
     "output_type": "stream",
     "text": [
      "{'n_neighbors': 5}\n",
      "0.927835051546\n",
      "Accuracy score d'un Knn optimise: 0.888\n"
     ]
    }
   ],
   "source": [
    "from sklearn.model_selection import GridSearchCV\n",
    "parameters = {'n_neighbors': [1,3,5,7,9,10]}\n",
    "model = KNeighborsClassifier()\n",
    "clf  = GridSearchCV(model, parameters,scoring='accuracy', cv=10)\n",
    "grille = clf.fit(X1_pca, Y1)\n",
    "print(grille.best_params_)\n",
    "print(grille.best_score_)\n",
    "\n",
    "YKNN_0 = grille.predict(X2_pca)\n",
    "print(\"Accuracy score d'un Knn optimise: {0:.3f}\".format(accuracy_score(Y2, YKNN_0)))"
   ]
  },
  {
   "cell_type": "markdown",
   "metadata": {},
   "source": [
    "Cela permet de selectionner le nombre k plus proche voisins le plus optimiser. Dans notre cas il faut les 5 k plus proche voisins."
   ]
  },
  {
   "cell_type": "markdown",
   "metadata": {},
   "source": [
    "## II. Apprentissage\tsupervisé\t:\tDonnées\thétérogènes\t\n"
   ]
  },
  {
   "cell_type": "markdown",
   "metadata": {},
   "source": [
    "### 1)\n",
    "#### Chargement des données et préparation\n",
    "* Importation"
   ]
  },
  {
   "cell_type": "code",
   "execution_count": 14,
   "metadata": {
    "collapsed": true
   },
   "outputs": [],
   "source": [
    "data_credit = pd.read_csv('./credit.data', sep='\\t', header=-1 )"
   ]
  },
  {
   "cell_type": "markdown",
   "metadata": {},
   "source": [
    "* Transformation et sepparation"
   ]
  },
  {
   "cell_type": "code",
   "execution_count": 15,
   "metadata": {
    "collapsed": true
   },
   "outputs": [],
   "source": [
    "X = data_credit.ix[:, :14].values\n",
    "Y = data_credit.ix[:, 15].values"
   ]
  },
  {
   "cell_type": "markdown",
   "metadata": {},
   "source": [
    "* Colonne numériques et catégorielles"
   ]
  },
  {
   "cell_type": "code",
   "execution_count": 16,
   "metadata": {
    "collapsed": true
   },
   "outputs": [],
   "source": [
    "col_num = [1, 2, 7, 10, 13, 14]\n",
    "col_cat = [0, 3, 4, 5, 6, 8, 9, 11, 12]"
   ]
  },
  {
   "cell_type": "markdown",
   "metadata": {},
   "source": [
    "* Supprimer les données manquantes"
   ]
  },
  {
   "cell_type": "code",
   "execution_count": 17,
   "metadata": {
    "collapsed": true,
    "scrolled": true
   },
   "outputs": [],
   "source": [
    "X_num = X[:, col_num]\n",
    "X_num[X_num == '?'] = np.nan\n",
    "X_num = X_num.astype(float)\n",
    "Y_num = Y[~np.isnan(X_num).any(axis=1)]\n",
    "X_num = X_num[~np.isnan(X_num).any(axis=1)]"
   ]
  },
  {
   "cell_type": "markdown",
   "metadata": {},
   "source": [
    "* Analyser les propriété de nos données"
   ]
  },
  {
   "cell_type": "code",
   "execution_count": 18,
   "metadata": {},
   "outputs": [
    {
     "name": "stdout",
     "output_type": "stream",
     "text": [
      "Pourcentage de crédit positifs: 44.331\n",
      "Pourcentage de crédit négatifs: 55.669\n"
     ]
    }
   ],
   "source": [
    "print(\"Pourcentage de crédit positifs: {0:.3f}\".format(100*sum(Y == '+') / len(Y)))\n",
    "print(\"Pourcentage de crédit négatifs: {0:.3f}\".format(100*sum(Y == '-') / len(Y)))"
   ]
  },
  {
   "cell_type": "markdown",
   "metadata": {},
   "source": [
    "* Binariser la sortie"
   ]
  },
  {
   "cell_type": "code",
   "execution_count": 19,
   "metadata": {
    "collapsed": true
   },
   "outputs": [],
   "source": [
    "Y_num[Y_num=='+'] = 1\n",
    "Y_num[Y_num=='-'] = 0\n",
    "Y_num = Y_num.astype(int)"
   ]
  },
  {
   "cell_type": "markdown",
   "metadata": {},
   "source": [
    "#### Apprentisage et évolution de modèles"
   ]
  },
  {
   "cell_type": "markdown",
   "metadata": {},
   "source": [
    "* import"
   ]
  },
  {
   "cell_type": "code",
   "execution_count": 20,
   "metadata": {
    "collapsed": true
   },
   "outputs": [],
   "source": [
    "from sklearn.model_selection import train_test_split, KFold, cross_val_score\n",
    "from sklearn.neighbors import KNeighborsClassifier\n",
    "from sklearn.tree import DecisionTreeClassifier\n",
    "from sklearn.metrics import confusion_matrix, accuracy_score, precision_score\n",
    "from sklearn.neural_network import MLPClassifier\n",
    "from sklearn.ensemble import BaggingClassifier, AdaBoostClassifier, RandomForestClassifier\n",
    "import time"
   ]
  },
  {
   "cell_type": "markdown",
   "metadata": {},
   "source": [
    "* Algorithmes d'apprentissage supervisé utilisés"
   ]
  },
  {
   "cell_type": "code",
   "execution_count": 21,
   "metadata": {
    "collapsed": true
   },
   "outputs": [],
   "source": [
    "clfs={\n",
    "    \"Decision Tree\":DecisionTreeClassifier(random_state=1),\n",
    "    \"ID3\":DecisionTreeClassifier(criterion=\"entropy\"),\n",
    "    \"stump\":DecisionTreeClassifier(random_state=1, max_depth=1),\n",
    "    \"MLP\":MLPClassifier(hidden_layer_sizes=(20,10)),\n",
    "    'KNN':KNeighborsClassifier(n_neighbors=10),\n",
    "    \"B50\":BaggingClassifier(n_estimators=50),\n",
    "    'RF':RandomForestClassifier(n_estimators=50),\n",
    "    'AB':AdaBoostClassifier(n_estimators=50),\n",
    "}"
   ]
  },
  {
   "cell_type": "markdown",
   "metadata": {},
   "source": [
    "* Fonction d'évaluation des classifieurs"
   ]
  },
  {
   "cell_type": "code",
   "execution_count": 22,
   "metadata": {
    "collapsed": true
   },
   "outputs": [],
   "source": [
    "def run_classifiers(X, Y, clfs):\n",
    "    kf=KFold(n_splits=5,shuffle=True,random_state=0)\n",
    "    for i in clfs: \n",
    "        debut = time.time()\n",
    "        clf = clfs[i]\n",
    "        cv_acc = cross_val_score(clf, X, Y, cv=kf)\n",
    "        fin = time.time()\n",
    "        temps_execution = fin-debut\n",
    "        print(i)\n",
    "        print(\"Temps d'execution is : {0:.3f}\".format(temps_execution))\n",
    "        print(\"Accuracy for {0} is: {1:.3f} +/- {2:.3f}\".format(i,np.mean(cv_acc),np.std(cv_acc))) \n",
    "        clf.fit(X,Y)\n",
    "        yclf = clf.predict(X)\n",
    "        print(\"Accuracy score d'un {0}: {1:.3f}\".format(i, accuracy_score(Y,yclf)))\n",
    "        print(\"Precision score d'un {0}: {1:.3f}\".format(i, precision_score(Y,yclf)))\n",
    "        print(\"AdaBoost avec 50 classifieurs\")\n",
    "        print(confusion_matrix(Y, yclf))\n",
    "        print()\n"
   ]
  },
  {
   "cell_type": "markdown",
   "metadata": {},
   "source": [
    "* Execution de notre fonction d'évaluation des classifieurs"
   ]
  },
  {
   "cell_type": "code",
   "execution_count": 23,
   "metadata": {
    "scrolled": true
   },
   "outputs": [
    {
     "name": "stdout",
     "output_type": "stream",
     "text": [
      "DT\n",
      "Temps d'execution is : 0.029\n",
      "Accuracy for DT is: 0.730 +/- 0.020\n",
      "Accuracy score d'un DT: 1.000\n",
      "Precision score d'un DT: 1.000\n",
      "AdaBoost avec 50 classifieurs\n",
      "[[367   0]\n",
      " [  0 299]]\n",
      "\n",
      "ID3\n",
      "Temps d'execution is : 0.026\n",
      "Accuracy for ID3 is: 0.740 +/- 0.011\n",
      "Accuracy score d'un ID3: 1.000\n",
      "Precision score d'un ID3: 1.000\n",
      "AdaBoost avec 50 classifieurs\n",
      "[[367   0]\n",
      " [  0 299]]\n",
      "\n",
      "stump\n",
      "Temps d'execution is : 0.012\n",
      "Accuracy for stump is: 0.743 +/- 0.042\n",
      "Accuracy score d'un stump: 0.743\n",
      "Precision score d'un stump: 0.864\n",
      "AdaBoost avec 50 classifieurs\n",
      "[[343  24]\n",
      " [147 152]]\n",
      "\n",
      "MLP\n",
      "Temps d'execution is : 0.471\n",
      "Accuracy for MLP is: 0.671 +/- 0.039\n",
      "Accuracy score d'un MLP: 0.619\n",
      "Precision score d'un MLP: 0.674\n",
      "AdaBoost avec 50 classifieurs\n",
      "[[325  42]\n",
      " [212  87]]\n",
      "\n",
      "KNN\n",
      "Temps d'execution is : 0.023\n",
      "Accuracy for KNN is: 0.692 +/- 0.020\n",
      "Accuracy score d'un KNN: 0.737\n",
      "Precision score d'un KNN: 0.830\n",
      "AdaBoost avec 50 classifieurs\n",
      "[[335  32]\n",
      " [143 156]]\n",
      "\n",
      "B50\n",
      "Temps d'execution is : 0.779\n",
      "Accuracy for B50 is: 0.770 +/- 0.036\n",
      "Accuracy score d'un B50: 1.000\n",
      "Precision score d'un B50: 1.000\n",
      "AdaBoost avec 50 classifieurs\n",
      "[[367   0]\n",
      " [  0 299]]\n",
      "\n",
      "RF\n",
      "Temps d'execution is : 0.689\n",
      "Accuracy for RF is: 0.799 +/- 0.032\n",
      "Accuracy score d'un RF: 1.000\n",
      "Precision score d'un RF: 1.000\n",
      "AdaBoost avec 50 classifieurs\n",
      "[[367   0]\n",
      " [  0 299]]\n",
      "\n",
      "AB\n",
      "Temps d'execution is : 0.569\n",
      "Accuracy for AB is: 0.781 +/- 0.023\n",
      "Accuracy score d'un AB: 0.850\n",
      "Precision score d'un AB: 0.881\n",
      "AdaBoost avec 50 classifieurs\n",
      "[[336  31]\n",
      " [ 69 230]]\n",
      "\n"
     ]
    }
   ],
   "source": [
    "run_classifiers(X_num, Y_num, clfs)"
   ]
  },
  {
   "cell_type": "markdown",
   "metadata": {},
   "source": [
    "Nous pouvons voir que la prédiction est déjà très bonne pour certains classifieur. Cependant d'autres sont à améliorer. Attention au risque de suraprentissage."
   ]
  },
  {
   "cell_type": "markdown",
   "metadata": {},
   "source": [
    "#### Normalisation des variables continues\n",
    "* Normalisation"
   ]
  },
  {
   "cell_type": "code",
   "execution_count": 24,
   "metadata": {
    "collapsed": true
   },
   "outputs": [],
   "source": [
    "from sklearn.preprocessing import StandardScaler\n",
    "standard_scalar = StandardScaler()\n",
    "standard_scalar.fit(X_num)\n",
    "X_num_scale = standard_scalar.transform(X_num)"
   ]
  },
  {
   "cell_type": "markdown",
   "metadata": {
    "collapsed": true
   },
   "source": [
    "* Execution de run classifiers"
   ]
  },
  {
   "cell_type": "code",
   "execution_count": 25,
   "metadata": {},
   "outputs": [
    {
     "name": "stdout",
     "output_type": "stream",
     "text": [
      "DT\n",
      "Temps d'execution is : 0.024\n",
      "Accuracy for DT is: 0.730 +/- 0.020\n",
      "Accuracy score d'un DT: 1.000\n",
      "Precision score d'un DT: 1.000\n",
      "AdaBoost avec 50 classifieurs\n",
      "[[367   0]\n",
      " [  0 299]]\n",
      "\n",
      "ID3\n",
      "Temps d'execution is : 0.039\n",
      "Accuracy for ID3 is: 0.749 +/- 0.019\n",
      "Accuracy score d'un ID3: 1.000\n",
      "Precision score d'un ID3: 1.000\n",
      "AdaBoost avec 50 classifieurs\n",
      "[[367   0]\n",
      " [  0 299]]\n",
      "\n",
      "stump\n",
      "Temps d'execution is : 0.013\n",
      "Accuracy for stump is: 0.743 +/- 0.042\n",
      "Accuracy score d'un stump: 0.743\n",
      "Precision score d'un stump: 0.864\n",
      "AdaBoost avec 50 classifieurs\n",
      "[[343  24]\n",
      " [147 152]]\n",
      "\n",
      "MLP\n",
      "Temps d'execution is : 4.002\n",
      "Accuracy for MLP is: 0.775 +/- 0.028\n",
      "Accuracy score d'un MLP: 0.812\n",
      "Precision score d'un MLP: 0.843\n",
      "AdaBoost avec 50 classifieurs\n",
      "[[327  40]\n",
      " [ 85 214]]\n",
      "\n",
      "KNN\n",
      "Temps d'execution is : 0.029\n",
      "Accuracy for KNN is: 0.748 +/- 0.049\n",
      "Accuracy score d'un KNN: 0.773\n",
      "Precision score d'un KNN: 0.885\n",
      "AdaBoost avec 50 classifieurs\n",
      "[[345  22]\n",
      " [129 170]]\n",
      "\n",
      "B50\n",
      "Temps d'execution is : 0.875\n",
      "Accuracy for B50 is: 0.782 +/- 0.037\n",
      "Accuracy score d'un B50: 1.000\n",
      "Precision score d'un B50: 1.000\n",
      "AdaBoost avec 50 classifieurs\n",
      "[[367   0]\n",
      " [  0 299]]\n",
      "\n",
      "RF\n",
      "Temps d'execution is : 0.651\n",
      "Accuracy for RF is: 0.791 +/- 0.039\n",
      "Accuracy score d'un RF: 1.000\n",
      "Precision score d'un RF: 1.000\n",
      "AdaBoost avec 50 classifieurs\n",
      "[[367   0]\n",
      " [  0 299]]\n",
      "\n",
      "AB\n",
      "Temps d'execution is : 0.651\n",
      "Accuracy for AB is: 0.781 +/- 0.023\n",
      "Accuracy score d'un AB: 0.850\n",
      "Precision score d'un AB: 0.881\n",
      "AdaBoost avec 50 classifieurs\n",
      "[[336  31]\n",
      " [ 69 230]]\n",
      "\n"
     ]
    }
   ],
   "source": [
    "run_classifiers(X_num_scale, Y_num, clfs)"
   ]
  },
  {
   "cell_type": "markdown",
   "metadata": {},
   "source": [
    "On peut remarqué que les résultats sont dans l'ensemble améliorer.\n",
    "Toutefois sur certaint algorithme comme dans le premier exercice la normalisation n'entraine pas de changement. "
   ]
  },
  {
   "cell_type": "markdown",
   "metadata": {},
   "source": [
    "### 2)\n",
    "#### Traitement de données manquantes"
   ]
  },
  {
   "cell_type": "markdown",
   "metadata": {},
   "source": [
    "* Import"
   ]
  },
  {
   "cell_type": "code",
   "execution_count": 26,
   "metadata": {
    "collapsed": true
   },
   "outputs": [],
   "source": [
    "from sklearn.preprocessing import Imputer, OneHotEncoder"
   ]
  },
  {
   "cell_type": "markdown",
   "metadata": {
    "collapsed": true
   },
   "source": [
    "* Pour les variables catégorielles"
   ]
  },
  {
   "cell_type": "code",
   "execution_count": 27,
   "metadata": {
    "collapsed": true
   },
   "outputs": [],
   "source": [
    "X_cat = np.copy(X[:,col_cat])\n",
    "for col_id in range(len(col_cat)):\n",
    "    unique_val, val_idx = np.unique(X_cat[:, col_id], return_inverse=True)\n",
    "    X_cat[:, col_id] = val_idx \n",
    "\n",
    "imp_cat = Imputer(missing_values=0, strategy='most_frequent') \n",
    "X_cat[:, range(5)] = imp_cat.fit_transform(X_cat[:, range(5)])"
   ]
  },
  {
   "cell_type": "markdown",
   "metadata": {},
   "source": [
    "* Pour les variables numériques"
   ]
  },
  {
   "cell_type": "code",
   "execution_count": 28,
   "metadata": {
    "collapsed": true
   },
   "outputs": [],
   "source": [
    "X_num = np.copy(X[:, col_num]) \n",
    "X_num[X_num == '?'] = np.nan \n",
    "X_num = X_num.astype(float)\n",
    "\n",
    "imp_num = Imputer(missing_values=np.nan, strategy='mean')\n",
    "X_num = imp_num.fit_transform(X_num)\n",
    "\n",
    "\n",
    "Y_num_bis = Y[~np.isnan(X_num).any(axis=1)]\n",
    "Y_num_bis[Y_num_bis=='+'] = 1\n",
    "Y_num_bis[Y_num_bis=='-'] = 0\n",
    "Y_num_bis = Y_num_bis.astype(int)"
   ]
  },
  {
   "cell_type": "markdown",
   "metadata": {},
   "source": [
    "#### Traitement de variables catégorielles"
   ]
  },
  {
   "cell_type": "code",
   "execution_count": 29,
   "metadata": {
    "collapsed": true
   },
   "outputs": [],
   "source": [
    "X_cat_bin = OneHotEncoder().fit_transform(X_cat).toarray()"
   ]
  },
  {
   "cell_type": "markdown",
   "metadata": {},
   "source": [
    "#### Construction de votre jeu de données"
   ]
  },
  {
   "cell_type": "code",
   "execution_count": 30,
   "metadata": {},
   "outputs": [
    {
     "name": "stdout",
     "output_type": "stream",
     "text": [
      "(688, 6)\n",
      "(688, 40)\n",
      "(688, 46)\n"
     ]
    }
   ],
   "source": [
    "print(X_num.shape)\n",
    "print(X_cat_bin.shape)\n",
    "X_concat = np.concatenate([X_num,X_cat_bin],axis=1)\n",
    "print(X_concat.shape)"
   ]
  },
  {
   "cell_type": "markdown",
   "metadata": {
    "collapsed": true
   },
   "source": [
    "#### Evaluation de notre nouveau jeu de donné"
   ]
  },
  {
   "cell_type": "code",
   "execution_count": 31,
   "metadata": {},
   "outputs": [
    {
     "name": "stdout",
     "output_type": "stream",
     "text": [
      "DT\n",
      "Temps d'execution is : 0.037\n",
      "Accuracy for DT is: 0.811 +/- 0.049\n",
      "Accuracy score d'un DT: 1.000\n",
      "Precision score d'un DT: 1.000\n",
      "AdaBoost avec 50 classifieurs\n",
      "[[383   0]\n",
      " [  0 305]]\n",
      "\n",
      "ID3\n",
      "Temps d'execution is : 0.032\n",
      "Accuracy for ID3 is: 0.824 +/- 0.013\n",
      "Accuracy score d'un ID3: 1.000\n",
      "Precision score d'un ID3: 1.000\n",
      "AdaBoost avec 50 classifieurs\n",
      "[[383   0]\n",
      " [  0 305]]\n",
      "\n",
      "stump\n",
      "Temps d'execution is : 0.014\n",
      "Accuracy for stump is: 0.856 +/- 0.036\n",
      "Accuracy score d'un stump: 0.856\n",
      "Precision score d'un stump: 0.786\n",
      "AdaBoost avec 50 classifieurs\n",
      "[[306  77]\n",
      " [ 22 283]]\n",
      "\n",
      "MLP\n",
      "Temps d'execution is : 0.674\n",
      "Accuracy for MLP is: 0.661 +/- 0.058\n",
      "Accuracy score d'un MLP: 0.706\n",
      "Precision score d'un MLP: 0.694\n",
      "AdaBoost avec 50 classifieurs\n",
      "[[302  81]\n",
      " [121 184]]\n",
      "\n",
      "KNN\n",
      "Temps d'execution is : 0.036\n",
      "Accuracy for KNN is: 0.702 +/- 0.020\n",
      "Accuracy score d'un KNN: 0.741\n",
      "Precision score d'un KNN: 0.832\n",
      "AdaBoost avec 50 classifieurs\n",
      "[[351  32]\n",
      " [146 159]]\n",
      "\n",
      "B50\n",
      "Temps d'execution is : 1.320\n",
      "Accuracy for B50 is: 0.866 +/- 0.019\n",
      "Accuracy score d'un B50: 1.000\n",
      "Precision score d'un B50: 1.000\n",
      "AdaBoost avec 50 classifieurs\n",
      "[[383   0]\n",
      " [  0 305]]\n",
      "\n",
      "RF\n",
      "Temps d'execution is : 0.741\n",
      "Accuracy for RF is: 0.871 +/- 0.025\n",
      "Accuracy score d'un RF: 1.000\n",
      "Precision score d'un RF: 1.000\n",
      "AdaBoost avec 50 classifieurs\n",
      "[[383   0]\n",
      " [  0 305]]\n",
      "\n",
      "AB\n",
      "Temps d'execution is : 0.797\n",
      "Accuracy for AB is: 0.843 +/- 0.029\n",
      "Accuracy score d'un AB: 0.892\n",
      "Precision score d'un AB: 0.867\n",
      "AdaBoost avec 50 classifieurs\n",
      "[[341  42]\n",
      " [ 32 273]]\n",
      "\n"
     ]
    }
   ],
   "source": [
    "run_classifiers(X_concat, Y_num_bis, clfs)"
   ]
  },
  {
   "cell_type": "markdown",
   "metadata": {},
   "source": [
    "## III. Apprentissage\tsupervisé\tsur\tdes\tdonnées\ttextuelles\t:\tFeature\tengineering\tet\tClassification"
   ]
  },
  {
   "cell_type": "code",
   "execution_count": 86,
   "metadata": {
    "collapsed": true
   },
   "outputs": [],
   "source": [
    "from sklearn.feature_extraction.text import CountVectorizer, TfidfTransformer\n",
    "from sklearn.decomposition import TruncatedSVD\n",
    "\n"
   ]
  },
  {
   "cell_type": "markdown",
   "metadata": {
    "collapsed": true
   },
   "source": [
    "## CountVectorizer"
   ]
  },
  {
   "cell_type": "code",
   "execution_count": 81,
   "metadata": {
    "collapsed": true
   },
   "outputs": [],
   "source": [
    "data_sms = pd.read_csv('./SMSSpamCollection.data', sep='\\t', header=-1)\n",
    "X_sms = data_sms.ix[:, 1].values\n",
    "Y_sms = data_sms.ix[:, 0].values\n",
    "\n",
    "Y_sms[Y_sms=='ham'] = 1\n",
    "Y_sms[Y_sms=='spam'] = 0\n",
    "Y_sms = Y_sms.astype(int)"
   ]
  },
  {
   "cell_type": "code",
   "execution_count": 99,
   "metadata": {},
   "outputs": [
    {
     "name": "stdout",
     "output_type": "stream",
     "text": [
      "DT\n",
      "Temps d'execution is : 0.365\n",
      "Accuracy for DT is: 0.962 +/- 0.003\n",
      "Accuracy score d'un DT: 0.998\n",
      "Precision score d'un DT: 0.998\n",
      "AdaBoost avec 50 classifieurs\n",
      "[[ 738    9]\n",
      " [   2 4823]]\n",
      "\n",
      "ID3\n",
      "Temps d'execution is : 0.399\n",
      "Accuracy for ID3 is: 0.960 +/- 0.004\n",
      "Accuracy score d'un ID3: 0.998\n",
      "Precision score d'un ID3: 0.998\n",
      "AdaBoost avec 50 classifieurs\n",
      "[[ 738    9]\n",
      " [   2 4823]]\n",
      "\n",
      "stump\n",
      "Temps d'execution is : 0.018\n",
      "Accuracy for stump is: 0.891 +/- 0.011\n",
      "Accuracy score d'un stump: 0.891\n",
      "Precision score d'un stump: 0.890\n",
      "AdaBoost avec 50 classifieurs\n",
      "[[ 152  595]\n",
      " [  13 4812]]\n",
      "\n",
      "MLP\n",
      "Temps d'execution is : 12.817\n",
      "Accuracy for MLP is: 0.980 +/- 0.002\n",
      "Accuracy score d'un MLP: 0.998\n",
      "Precision score d'un MLP: 0.998\n",
      "AdaBoost avec 50 classifieurs\n",
      "[[ 736   11]\n",
      " [   0 4825]]\n",
      "\n",
      "KNN\n",
      "Temps d'execution is : 0.751\n",
      "Accuracy for KNN is: 0.919 +/- 0.013\n",
      "Accuracy score d'un KNN: 0.935\n",
      "Precision score d'un KNN: 0.931\n",
      "AdaBoost avec 50 classifieurs\n",
      "[[ 388  359]\n",
      " [   1 4824]]\n",
      "\n",
      "B50\n",
      "Temps d'execution is : 13.953\n",
      "Accuracy for B50 is: 0.970 +/- 0.006\n",
      "Accuracy score d'un B50: 0.998\n",
      "Precision score d'un B50: 0.998\n",
      "AdaBoost avec 50 classifieurs\n",
      "[[ 737   10]\n",
      " [   1 4824]]\n",
      "\n",
      "RF\n",
      "Temps d'execution is : 2.419\n",
      "Accuracy for RF is: 0.977 +/- 0.004\n",
      "Accuracy score d'un RF: 0.998\n",
      "Precision score d'un RF: 0.998\n",
      "AdaBoost avec 50 classifieurs\n",
      "[[ 736   11]\n",
      " [   1 4824]]\n",
      "\n",
      "AB\n",
      "Temps d'execution is : 0.872\n",
      "Accuracy for AB is: 0.970 +/- 0.005\n",
      "Accuracy score d'un AB: 0.977\n",
      "Precision score d'un AB: 0.978\n",
      "AdaBoost avec 50 classifieurs\n",
      "[[ 641  106]\n",
      " [  20 4805]]\n",
      "\n"
     ]
    }
   ],
   "source": [
    "cv = CountVectorizer(max_features=500, stop_words = 'english')\n",
    "X_sms_classified = cv.fit_transform(X_sms)\n",
    "run_classifiers(X_sms_classified, Y_sms, clfs)"
   ]
  },
  {
   "cell_type": "markdown",
   "metadata": {},
   "source": [
    "On peut constater les algorithme sont déjà très performant. "
   ]
  },
  {
   "cell_type": "markdown",
   "metadata": {
    "collapsed": true
   },
   "source": [
    "## Tf–idf\tterm\tweighting"
   ]
  },
  {
   "cell_type": "code",
   "execution_count": 90,
   "metadata": {},
   "outputs": [
    {
     "name": "stdout",
     "output_type": "stream",
     "text": [
      "(5572, 500)\n",
      "DT\n",
      "Temps d'execution is : 0.843\n",
      "Accuracy for DT is: 0.966 +/- 0.006\n",
      "Accuracy score d'un DT: 0.998\n",
      "Precision score d'un DT: 0.998\n",
      "AdaBoost avec 50 classifieurs\n",
      "[[ 738    9]\n",
      " [   2 4823]]\n",
      "\n",
      "ID3\n",
      "Temps d'execution is : 1.021\n",
      "Accuracy for ID3 is: 0.966 +/- 0.002\n",
      "Accuracy score d'un ID3: 0.998\n",
      "Precision score d'un ID3: 0.998\n",
      "AdaBoost avec 50 classifieurs\n",
      "[[ 738    9]\n",
      " [   2 4823]]\n",
      "\n",
      "stump\n",
      "Temps d'execution is : 0.016\n",
      "Accuracy for stump is: 0.891 +/- 0.011\n",
      "Accuracy score d'un stump: 0.891\n",
      "Precision score d'un stump: 0.890\n",
      "AdaBoost avec 50 classifieurs\n",
      "[[ 152  595]\n",
      " [  13 4812]]\n",
      "\n",
      "MLP\n",
      "Temps d'execution is : 16.863\n",
      "Accuracy for MLP is: 0.979 +/- 0.002\n",
      "Accuracy score d'un MLP: 0.998\n",
      "Precision score d'un MLP: 0.998\n",
      "AdaBoost avec 50 classifieurs\n",
      "[[ 736   11]\n",
      " [   2 4823]]\n",
      "\n",
      "KNN\n",
      "Temps d'execution is : 0.714\n",
      "Accuracy for KNN is: 0.914 +/- 0.010\n",
      "Accuracy score d'un KNN: 0.934\n",
      "Precision score d'un KNN: 0.931\n",
      "AdaBoost avec 50 classifieurs\n",
      "[[ 389  358]\n",
      " [   9 4816]]\n",
      "\n",
      "B50\n",
      "Temps d'execution is : 23.014\n",
      "Accuracy for B50 is: 0.971 +/- 0.007\n",
      "Accuracy score d'un B50: 0.998\n",
      "Precision score d'un B50: 0.998\n",
      "AdaBoost avec 50 classifieurs\n",
      "[[ 736   11]\n",
      " [   0 4825]]\n",
      "\n",
      "RF\n",
      "Temps d'execution is : 2.996\n",
      "Accuracy for RF is: 0.978 +/- 0.003\n",
      "Accuracy score d'un RF: 0.998\n",
      "Precision score d'un RF: 0.998\n",
      "AdaBoost avec 50 classifieurs\n",
      "[[ 736   11]\n",
      " [   0 4825]]\n",
      "\n",
      "AB\n",
      "Temps d'execution is : 1.203\n",
      "Accuracy for AB is: 0.968 +/- 0.007\n",
      "Accuracy score d'un AB: 0.977\n",
      "Precision score d'un AB: 0.980\n",
      "AdaBoost avec 50 classifieurs\n",
      "[[ 647  100]\n",
      " [  26 4799]]\n",
      "\n"
     ]
    }
   ],
   "source": [
    "transformer = TfidfTransformer()\n",
    "print(X_sms_classified.shape)\n",
    "X_sms_transformed = transformer.fit_transform(X_sms_classified)\n",
    "run_classifiers(X_sms_transformed, Y_sms, clfs)"
   ]
  },
  {
   "cell_type": "markdown",
   "metadata": {},
   "source": [
    "En fonction des algorithme cela peut s'améliorer. Cependant les algorithme qui était déjà bon ne vont pas être améliorer. Au contraire cela risque d'augmenter le temps de traitement."
   ]
  },
  {
   "cell_type": "markdown",
   "metadata": {},
   "source": [
    "## TruncatedSVD"
   ]
  },
  {
   "cell_type": "code",
   "execution_count": 98,
   "metadata": {},
   "outputs": [
    {
     "name": "stdout",
     "output_type": "stream",
     "text": [
      "DT\n",
      "Temps d'execution is : 0.544\n",
      "Accuracy for DT is: 0.958 +/- 0.006\n",
      "Accuracy score d'un DT: 0.998\n",
      "Precision score d'un DT: 0.998\n",
      "AdaBoost avec 50 classifieurs\n",
      "[[ 738    9]\n",
      " [   2 4823]]\n",
      "\n",
      "ID3\n",
      "Temps d'execution is : 0.537\n",
      "Accuracy for ID3 is: 0.960 +/- 0.009\n",
      "Accuracy score d'un ID3: 0.998\n",
      "Precision score d'un ID3: 0.998\n",
      "AdaBoost avec 50 classifieurs\n",
      "[[ 738    9]\n",
      " [   2 4823]]\n",
      "\n",
      "stump\n",
      "Temps d'execution is : 0.053\n",
      "Accuracy for stump is: 0.893 +/- 0.008\n",
      "Accuracy score d'un stump: 0.893\n",
      "Precision score d'un stump: 0.960\n",
      "AdaBoost avec 50 classifieurs\n",
      "[[ 565  182]\n",
      " [ 415 4410]]\n",
      "\n",
      "MLP\n",
      "Temps d'execution is : 15.359\n",
      "Accuracy for MLP is: 0.964 +/- 0.007\n",
      "Accuracy score d'un MLP: 0.974\n",
      "Precision score d'un MLP: 0.982\n",
      "AdaBoost avec 50 classifieurs\n",
      "[[ 658   89]\n",
      " [  57 4768]]\n",
      "\n",
      "KNN\n",
      "Temps d'execution is : 1.032\n",
      "Accuracy for KNN is: 0.966 +/- 0.006\n",
      "Accuracy score d'un KNN: 0.973\n",
      "Precision score d'un KNN: 0.982\n",
      "AdaBoost avec 50 classifieurs\n",
      "[[ 660   87]\n",
      " [  62 4763]]\n",
      "\n",
      "B50\n",
      "Temps d'execution is : 14.070\n",
      "Accuracy for B50 is: 0.971 +/- 0.007\n",
      "Accuracy score d'un B50: 0.998\n",
      "Precision score d'un B50: 0.998\n",
      "AdaBoost avec 50 classifieurs\n",
      "[[ 736   11]\n",
      " [   2 4823]]\n",
      "\n",
      "RF\n",
      "Temps d'execution is : 3.216\n",
      "Accuracy for RF is: 0.975 +/- 0.006\n",
      "Accuracy score d'un RF: 0.998\n",
      "Precision score d'un RF: 0.998\n",
      "AdaBoost avec 50 classifieurs\n",
      "[[ 736   11]\n",
      " [   1 4824]]\n",
      "\n",
      "AB\n",
      "Temps d'execution is : 4.157\n",
      "Accuracy for AB is: 0.962 +/- 0.006\n",
      "Accuracy score d'un AB: 0.968\n",
      "Precision score d'un AB: 0.979\n",
      "AdaBoost avec 50 classifieurs\n",
      "[[ 645  102]\n",
      " [  78 4747]]\n",
      "\n"
     ]
    }
   ],
   "source": [
    "truncated = TruncatedSVD(n_components=20)\n",
    "X_sms_truncated = truncated.fit_transform(X_sms_transformed)\n",
    "\n",
    "run_classifiers(X_sms_truncated, Y_sms, clfs)\n"
   ]
  },
  {
   "cell_type": "markdown",
   "metadata": {},
   "source": [
    "Les arbres de décisions ne sont pas améliorer. Leur temps est cependant légerement augmenté. \n",
    "D'autres algorithme sont même dégradé."
   ]
  },
  {
   "cell_type": "code",
   "execution_count": null,
   "metadata": {
    "collapsed": true
   },
   "outputs": [],
   "source": []
  }
 ],
 "metadata": {
  "kernelspec": {
   "display_name": "Python 3",
   "language": "python",
   "name": "python3"
  },
  "language_info": {
   "codemirror_mode": {
    "name": "ipython",
    "version": 3
   },
   "file_extension": ".py",
   "mimetype": "text/x-python",
   "name": "python",
   "nbconvert_exporter": "python",
   "pygments_lexer": "ipython3",
   "version": "3.6.3"
  }
 },
 "nbformat": 4,
 "nbformat_minor": 2
}
